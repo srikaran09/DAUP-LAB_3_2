{
  "nbformat": 4,
  "nbformat_minor": 0,
  "metadata": {
    "colab": {
      "provenance": [],
      "gpuType": "T4"
    },
    "kernelspec": {
      "name": "python3",
      "display_name": "Python 3"
    },
    "language_info": {
      "name": "python"
    },
    "accelerator": "GPU"
  },
  "cells": [
    {
      "cell_type": "code",
      "execution_count": 1,
      "metadata": {
        "colab": {
          "base_uri": "https://localhost:8080/"
        },
        "id": "wUEmFsU_hzcz",
        "outputId": "7f64a22f-3bee-4c83-e48b-c84f98d70273"
      },
      "outputs": [
        {
          "output_type": "stream",
          "name": "stdout",
          "text": [
            "P(A): 0.501\n",
            "P(B): 0.311\n",
            "P(A ∪ B): 0.6400000000000001\n",
            "P(A ∩ B): 0.172\n",
            "P(A | B): 0.5530546623794211\n",
            "Probability of Health & Beauty: 0.152\n",
            "Probability of Ewallet and >5 items: 0.48695652173913045\n",
            "Probability of Yangon and Cash: 0.3235294117647059\n",
            "Probability of Member and Rating > 8: 0.157\n"
          ]
        }
      ],
      "source": [
        "import pandas as pd\n",
        "\n",
        "df = pd.read_csv('/content/supermarket_sales -.csv')\n",
        "\n",
        "total_transactions = len(df)\n",
        "\n",
        "event_A = df[df['Customer type'] == 'Member']\n",
        "P_A = len(event_A) / total_transactions\n",
        "\n",
        "event_B = df[df['Payment'] == 'Credit card']\n",
        "P_B = len(event_B) / total_transactions\n",
        "\n",
        "event_A_and_B = df[(df['Customer type'] == 'Member') & (df['Payment'] == 'Credit card')]\n",
        "P_A_and_B = len(event_A_and_B) / total_transactions\n",
        "\n",
        "P_A_or_B = P_A + P_B - P_A_and_B\n",
        "\n",
        "P_A_given_B = P_A_and_B / P_B\n",
        "\n",
        "health_beauty = df[df['Product line'] == 'Health and beauty']\n",
        "P_health_beauty = len(health_beauty) / total_transactions\n",
        "\n",
        "ewallet = df[df['Payment'] == 'Ewallet']\n",
        "ewallet_more_than_5 = ewallet[ewallet['Quantity'] > 5]\n",
        "P_ewallet_more_than_5 = len(ewallet_more_than_5) / len(ewallet)\n",
        "\n",
        "yangon_cash = df[(df['City'] == 'Yangon') & (df['Payment'] == 'Cash')]\n",
        "P_yangon_cash = len(yangon_cash) / len(df[df['City'] == 'Yangon'])\n",
        "\n",
        "member_rating_above_8 = df[(df['Customer type'] == 'Member') & (df['Rating'] > 8)]\n",
        "P_member_rating_above_8 = len(member_rating_above_8) / total_transactions\n",
        "\n",
        "print(f\"P(A): {P_A}\")\n",
        "print(f\"P(B): {P_B}\")\n",
        "print(f\"P(A ∪ B): {P_A_or_B}\")\n",
        "print(f\"P(A ∩ B): {P_A_and_B}\")\n",
        "print(f\"P(A | B): {P_A_given_B}\")\n",
        "print(f\"Probability of Health & Beauty: {P_health_beauty}\")\n",
        "print(f\"Probability of Ewallet and >5 items: {P_ewallet_more_than_5}\")\n",
        "print(f\"Probability of Yangon and Cash: {P_yangon_cash}\")\n",
        "print(f\"Probability of Member and Rating > 8: {P_member_rating_above_8}\")"
      ]
    },
    {
      "cell_type": "code",
      "source": [
        "import math\n",
        "\n",
        "def factorial(n):\n",
        "    return math.factorial(n)\n",
        "\n",
        "def permutations(n, r):\n",
        "    return factorial(n) // factorial(n - r)\n",
        "\n",
        "def combinations(n, r):\n",
        "    return factorial(n) // (factorial(r) * factorial(n - r))\n",
        "\n",
        "n_transactions = 20\n",
        "r_transactions = 5\n",
        "ways_transactions = permutations(n_transactions, r_transactions)\n",
        "\n",
        "n_product_lines = 6\n",
        "r_product_lines = 3\n",
        "ways_product_lines = combinations(n_product_lines, r_product_lines)\n",
        "\n",
        "n_branches = len(df['Branch'].unique())\n",
        "factorial_branches = factorial(n_branches)\n",
        "\n",
        "n_payment_methods = 3\n",
        "r_payment_methods = 4\n",
        "ways_payment_methods = 0 if r_payment_methods > n_payment_methods else combinations(n_payment_methods, r_payment_methods)\n",
        "\n",
        "n_employees = 15\n",
        "r_employees = 5\n",
        "ways_employees = combinations(n_employees, r_employees)\n",
        "\n",
        "n_letters = 26\n",
        "r_letters = 6\n",
        "ways_invoice_codes = permutations(n_letters, r_letters)\n",
        "\n",
        "print(f\"Ways to arrange 5 transactions from 20: {ways_transactions}\")\n",
        "print(f\"Ways to select 3 product lines from 6: {ways_product_lines}\")\n",
        "print(f\"Factorial of number of branches: {factorial_branches}\")\n",
        "print(f\"Ways to display 4 payment methods from 3: {ways_payment_methods}\")\n",
        "print(f\"Ways to select 5 employees from 15: {ways_employees}\")\n",
        "print(f\"Ways to create invoice codes with 6 letters: {ways_invoice_codes}\")"
      ],
      "metadata": {
        "colab": {
          "base_uri": "https://localhost:8080/"
        },
        "id": "JD5bgnC3iXRu",
        "outputId": "858f7e08-377b-4c8e-f03b-cdf64801b79e"
      },
      "execution_count": 2,
      "outputs": [
        {
          "output_type": "stream",
          "name": "stdout",
          "text": [
            "Ways to arrange 5 transactions from 20: 1860480\n",
            "Ways to select 3 product lines from 6: 20\n",
            "Factorial of number of branches: 6\n",
            "Ways to display 4 payment methods from 3: 0\n",
            "Ways to select 5 employees from 15: 3003\n",
            "Ways to create invoice codes with 6 letters: 165765600\n"
          ]
        }
      ]
    }
  ]
}